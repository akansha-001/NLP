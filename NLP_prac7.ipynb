{
  "nbformat": 4,
  "nbformat_minor": 0,
  "metadata": {
    "colab": {
      "name": "NLP prac7.ipynb",
      "provenance": [],
      "authorship_tag": "ABX9TyPCxDCDpQEW7WAuFi3lVqRA",
      "include_colab_link": true
    },
    "kernelspec": {
      "name": "python3",
      "display_name": "Python 3"
    },
    "language_info": {
      "name": "python"
    }
  },
  "cells": [
    {
      "cell_type": "markdown",
      "metadata": {
        "id": "view-in-github",
        "colab_type": "text"
      },
      "source": [
        "<a href=\"https://colab.research.google.com/github/akansha-001/NLP/blob/main/NLP_prac7.ipynb\" target=\"_parent\"><img src=\"https://colab.research.google.com/assets/colab-badge.svg\" alt=\"Open In Colab\"/></a>"
      ]
    },
    {
      "cell_type": "markdown",
      "source": [
        " Finite state automata.\n",
        "7a) Define grammar using nltk. Analyze a sentence using the same.\n",
        " \n",
        "Code:\n",
        " "
      ],
      "metadata": {
        "id": "zRoSbsOkUH4q"
      }
    },
    {
      "cell_type": "code",
      "source": [
        "import nltk\n",
        "nltk.download('punkt')\n",
        "import nltk\n",
        "from nltk import tokenize\n",
        "grammar1 = nltk.CFG.fromstring(\"\"\"\n",
        "S -> VP\n",
        " VP -> VP NP\n",
        " NP -> Det NP\n",
        " Det -> 'that'\n",
        " NP -> singular Noun\n",
        " NP -> 'flight'\n",
        " VP -> 'Book' \n",
        "\"\"\")\n",
        "sentence = \"Book that flight\"\n",
        "for index in range(len(sentence)):\n",
        "    all_tokens = tokenize.word_tokenize(sentence)\n",
        "print(all_tokens)\n",
        "parser = nltk.ChartParser(grammar1)\n",
        "for tree in parser.parse(all_tokens):\n",
        "    print(tree)\n",
        "    #tree.draw()\n"
      ],
      "metadata": {
        "colab": {
          "base_uri": "https://localhost:8080/"
        },
        "id": "bWXftOpyUID9",
        "outputId": "0333d670-36e8-4968-f2a1-43b53d31a233"
      },
      "execution_count": null,
      "outputs": [
        {
          "output_type": "stream",
          "name": "stdout",
          "text": [
            "[nltk_data] Downloading package punkt to /root/nltk_data...\n",
            "[nltk_data]   Unzipping tokenizers/punkt.zip.\n",
            "['Book', 'that', 'flight']\n",
            "(S (VP (VP Book) (NP (Det that) (NP flight))))\n"
          ]
        }
      ]
    },
    {
      "cell_type": "markdown",
      "source": [
        "7b) Accept the input string with Regular expression of Finite Automaton: 101+.\n",
        " \n",
        "Code:\n",
        " "
      ],
      "metadata": {
        "id": "jUf0l4zWUNB8"
      }
    },
    {
      "cell_type": "code",
      "source": [
        "\n",
        "def FA(s):\n",
        "#if the length is less than 3 then it can't be accepted, Therefore end the process.\n",
        " if len(s)<3:\n",
        "   return \"Rejected\"\n",
        "#first three characters are fixed. Therefore, checking them using index\n",
        " if s[0]=='1':\n",
        "  if s[1]=='0':\n",
        "    if s[2]=='1':\n",
        "      # After index 2 only \"1\" can appear. Therefore break the process if any other character is detecte\n",
        "      for i in range(3,len(s)):\n",
        "        if s[i]!='1':\n",
        "          return \"Rejected\"\n",
        "        return \"Accepted\" # if all 4 nested if true \n",
        "      return \"Rejected\" # else of 3rd if\n",
        "    return \"Rejected\" # else of 2nd if\n",
        "  return \"Rejected\" # else of 1st if\n",
        "inputs=['1','10101','101','10111','01010','100','','10111101','1011111']\n",
        "for i in inputs:\n",
        " print(FA(i))\n"
      ],
      "metadata": {
        "colab": {
          "base_uri": "https://localhost:8080/"
        },
        "id": "rz8ISVPtUNSh",
        "outputId": "8ceaf801-6b81-4550-f7de-274c0f8ffe00"
      },
      "execution_count": null,
      "outputs": [
        {
          "output_type": "stream",
          "name": "stdout",
          "text": [
            "Rejected\n",
            "Rejected\n",
            "Rejected\n",
            "Accepted\n",
            "None\n",
            "Rejected\n",
            "Rejected\n",
            "Accepted\n",
            "Accepted\n"
          ]
        }
      ]
    },
    {
      "cell_type": "markdown",
      "source": [
        "7c) Accept the input string with Regular expression of FA: (a+b)*bba.\n",
        " \n",
        "Code:\n",
        " "
      ],
      "metadata": {
        "id": "sOLY2uuWUZ1Z"
      }
    },
    {
      "cell_type": "code",
      "source": [
        "\n",
        "def FA(s):\n",
        "    size=0\n",
        "    #scan complete string and make sure that it contains only 'a' & 'b'\n",
        "    for i in s:\n",
        "        if i=='a' or i=='b':\n",
        "            size+=1\n",
        "        else:\n",
        "            return \"Rejected\"\n",
        "    #After checking that it contains only 'a' & 'b'\n",
        "    #check it's length it should be 3 atleast\n",
        "    if size>=3:\n",
        "        #check the last 3 elements\n",
        "        if s[size-3]=='b':\n",
        "            if s[size-2]=='b':\n",
        "                if s[size-1]=='a':\n",
        "                    return \"Accepted\"\n",
        "                return \"Rejected\"\n",
        "            return \"Rejected\"\n",
        "        return \"Rejected\"\n",
        "    return \"Rejected\"\n",
        "inputs=['bba', 'ababbba', 'abba','abb', 'baba','bbb','']\n",
        "for i in inputs:\n",
        "    print(FA(i))\n"
      ],
      "metadata": {
        "colab": {
          "base_uri": "https://localhost:8080/"
        },
        "id": "EWBN5dciUaQL",
        "outputId": "3cd7f729-dc53-41de-8c8d-5c402268f53e"
      },
      "execution_count": null,
      "outputs": [
        {
          "output_type": "stream",
          "name": "stdout",
          "text": [
            "Accepted\n",
            "Accepted\n",
            "Accepted\n",
            "Rejected\n",
            "Rejected\n",
            "Rejected\n",
            "Rejected\n"
          ]
        }
      ]
    },
    {
      "cell_type": "markdown",
      "source": [
        "7d) Implementation of Deductive Chart Parsing using context free grammar and a given sentence.\n",
        " \n",
        "Code :\n",
        " "
      ],
      "metadata": {
        "id": "hB0D0m5JUfo0"
      }
    },
    {
      "cell_type": "code",
      "source": [
        "\n",
        "import nltk\n",
        "from nltk import tokenize\n",
        " \n",
        "import nltk\n",
        "nltk.download('punkt')\n",
        " \n",
        "grammar1 = nltk.CFG.fromstring(\"\"\"\n",
        "S -> NP VP\n",
        "PP -> P NP\n",
        "NP -> Det N | Det N PP | 'I'\n",
        "VP -> V NP | VP PP\n",
        "Det -> 'a' | 'my'\n",
        "N -> 'bird' | 'balcony'\n",
        "V -> 'saw'\n",
        "P -> 'in'\n",
        "\"\"\")\n",
        "sentence = \"I saw a bird in my balcony\"\n",
        "for index in range(len(sentence)):\n",
        "  all_tokens = tokenize.word_tokenize(sentence)\n",
        "print(all_tokens)\n",
        "# all_tokens = ['I', 'saw', 'a', 'bird', 'in', 'my', 'balcony']\n",
        "parser = nltk.ChartParser(grammar1)\n",
        "for tree in parser.parse(all_tokens):\n",
        "  print(tree)\n"
      ],
      "metadata": {
        "colab": {
          "base_uri": "https://localhost:8080/"
        },
        "id": "qzcaSBiQUfzQ",
        "outputId": "6c2ce730-4746-4ab5-d899-146a93e96998"
      },
      "execution_count": null,
      "outputs": [
        {
          "output_type": "stream",
          "name": "stdout",
          "text": [
            "[nltk_data] Downloading package punkt to /root/nltk_data...\n",
            "[nltk_data]   Package punkt is already up-to-date!\n",
            "['I', 'saw', 'a', 'bird', 'in', 'my', 'balcony']\n",
            "(S\n",
            "  (NP I)\n",
            "  (VP\n",
            "    (VP (V saw) (NP (Det a) (N bird)))\n",
            "    (PP (P in) (NP (Det my) (N balcony)))))\n",
            "(S\n",
            "  (NP I)\n",
            "  (VP\n",
            "    (V saw)\n",
            "    (NP (Det a) (N bird) (PP (P in) (NP (Det my) (N balcony))))))\n"
          ]
        }
      ]
    }
  ]
}