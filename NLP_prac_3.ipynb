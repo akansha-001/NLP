{
  "nbformat": 4,
  "nbformat_minor": 0,
  "metadata": {
    "colab": {
      "name": "NLP prac 3.ipynb",
      "provenance": [],
      "authorship_tag": "ABX9TyMXIMXMEt/4baoh2PFt+n+h",
      "include_colab_link": true
    },
    "kernelspec": {
      "name": "python3",
      "display_name": "Python 3"
    },
    "language_info": {
      "name": "python"
    }
  },
  "cells": [
    {
      "cell_type": "markdown",
      "metadata": {
        "id": "view-in-github",
        "colab_type": "text"
      },
      "source": [
        "<a href=\"https://colab.research.google.com/github/akansha-001/NLP/blob/main/NLP_prac_3.ipynb\" target=\"_parent\"><img src=\"https://colab.research.google.com/assets/colab-badge.svg\" alt=\"Open In Colab\"/></a>"
      ]
    },
    {
      "cell_type": "markdown",
      "source": [
        "3A. Study of Wordnet Dictionary with methods as synsets, definitions, examples, antonyms\n"
      ],
      "metadata": {
        "id": "ZAJRCCq5NQ3z"
      }
    },
    {
      "cell_type": "code",
      "source": [
        "'''WordNet provides synsets which is the collection of synonym words also called\n",
        "“lemmas”'''\n",
        "import nltk\n",
        "from nltk.corpus import wordnet\n",
        "nltk.download('wordnet')"
      ],
      "metadata": {
        "colab": {
          "base_uri": "https://localhost:8080/"
        },
        "id": "m8Wmiy9LNZ3G",
        "outputId": "a5b7a649-afb4-4ac6-a52f-0b2ce47bfa65"
      },
      "execution_count": 1,
      "outputs": [
        {
          "output_type": "stream",
          "name": "stdout",
          "text": [
            "[nltk_data] Downloading package wordnet to /root/nltk_data...\n",
            "[nltk_data]   Unzipping corpora/wordnet.zip.\n"
          ]
        },
        {
          "output_type": "execute_result",
          "data": {
            "text/plain": [
              "True"
            ]
          },
          "metadata": {},
          "execution_count": 1
        }
      ]
    },
    {
      "cell_type": "code",
      "source": [
        "print(wordnet.synsets(\"computer\"))"
      ],
      "metadata": {
        "colab": {
          "base_uri": "https://localhost:8080/"
        },
        "id": "_UpirUx1Nb_W",
        "outputId": "da29f875-c6a6-4a9e-c352-717bacd91078"
      },
      "execution_count": 2,
      "outputs": [
        {
          "output_type": "stream",
          "name": "stdout",
          "text": [
            "[Synset('computer.n.01'), Synset('calculator.n.01')]\n"
          ]
        }
      ]
    },
    {
      "cell_type": "code",
      "source": [
        "# definition and example of the word ‘computer’\n",
        "print(wordnet.synset(\"computer.n.01\").definition())"
      ],
      "metadata": {
        "colab": {
          "base_uri": "https://localhost:8080/"
        },
        "id": "cLI30bjeNd44",
        "outputId": "d7ae4f4a-bf2d-42e9-9dc0-f423af809043"
      },
      "execution_count": 3,
      "outputs": [
        {
          "output_type": "stream",
          "name": "stdout",
          "text": [
            "a machine for performing calculations automatically\n"
          ]
        }
      ]
    },
    {
      "cell_type": "code",
      "source": [
        "#examples\n",
        "print(\"Examples:\", wordnet.synset(\"computer.n.01\").examples())"
      ],
      "metadata": {
        "colab": {
          "base_uri": "https://localhost:8080/"
        },
        "id": "3H3ISZkJNfnc",
        "outputId": "cd9de406-66b5-4a19-f2f4-bc34ac5c977f"
      },
      "execution_count": 4,
      "outputs": [
        {
          "output_type": "stream",
          "name": "stdout",
          "text": [
            "Examples: []\n"
          ]
        }
      ]
    },
    {
      "cell_type": "code",
      "source": [
        "#get Antonyms\n",
        "print(wordnet.lemma('buy.v.01.buy').antonyms())"
      ],
      "metadata": {
        "colab": {
          "base_uri": "https://localhost:8080/"
        },
        "id": "xeD_Bs3DNhUT",
        "outputId": "926c4571-0ae6-4253-f2f4-6e44d7918373"
      },
      "execution_count": 5,
      "outputs": [
        {
          "output_type": "stream",
          "name": "stdout",
          "text": [
            "[Lemma('sell.v.01.sell')]\n"
          ]
        }
      ]
    },
    {
      "cell_type": "markdown",
      "source": [
        "B. Study lemmas, hyponyms, hypernyms"
      ],
      "metadata": {
        "id": "KI2jy3VkNobW"
      }
    },
    {
      "cell_type": "code",
      "source": [
        "import nltk\n",
        "from nltk.corpus import wordnet\n",
        "nltk.download('wordnet')\n",
        "print(wordnet.synsets(\"computer\"))\n",
        "print(wordnet.synset(\"computer.n.01\").lemma_names())"
      ],
      "metadata": {
        "colab": {
          "base_uri": "https://localhost:8080/"
        },
        "id": "l6GLlZNnNo81",
        "outputId": "3eb721ec-638a-42b0-ce6d-fa5a0ba5e374"
      },
      "execution_count": 6,
      "outputs": [
        {
          "output_type": "stream",
          "name": "stdout",
          "text": [
            "[nltk_data] Downloading package wordnet to /root/nltk_data...\n",
            "[nltk_data]   Package wordnet is already up-to-date!\n",
            "[Synset('computer.n.01'), Synset('calculator.n.01')]\n",
            "['computer', 'computing_machine', 'computing_device', 'data_processor', 'electronic_computer', 'information_processing_system']\n"
          ]
        }
      ]
    },
    {
      "cell_type": "code",
      "source": [
        "#all lemmas for each synset.\n",
        "for e in wordnet.synsets(\"computer\"):\n",
        "      print(f'{e} --> {e.lemma_names()}')"
      ],
      "metadata": {
        "colab": {
          "base_uri": "https://localhost:8080/"
        },
        "id": "41UdP4zDNqyN",
        "outputId": "472239d8-1638-4a96-fb7f-9bbf50e6c278"
      },
      "execution_count": 8,
      "outputs": [
        {
          "output_type": "stream",
          "name": "stdout",
          "text": [
            "Synset('computer.n.01') --> ['computer', 'computing_machine', 'computing_device', 'data_processor', 'electronic_computer', 'information_processing_system']\n",
            "Synset('calculator.n.01') --> ['calculator', 'reckoner', 'figurer', 'estimator', 'computer']\n"
          ]
        }
      ]
    },
    {
      "cell_type": "code",
      "source": [
        "#print all lemmas for a given synset\n",
        "print(wordnet.synset('computer.n.01').lemmas())"
      ],
      "metadata": {
        "colab": {
          "base_uri": "https://localhost:8080/"
        },
        "id": "Jx_tZ0BDNsih",
        "outputId": "c59bd14f-5872-47ec-ac7f-207851a5cfd3"
      },
      "execution_count": 9,
      "outputs": [
        {
          "output_type": "stream",
          "name": "stdout",
          "text": [
            "[Lemma('computer.n.01.computer'), Lemma('computer.n.01.computing_machine'), Lemma('computer.n.01.computing_device'), Lemma('computer.n.01.data_processor'), Lemma('computer.n.01.electronic_computer'), Lemma('computer.n.01.information_processing_system')]\n"
          ]
        }
      ]
    },
    {
      "cell_type": "code",
      "source": [
        "#get the synset corresponding to lemma\n",
        "print(wordnet.lemma('computer.n.01.computing_device').synset())"
      ],
      "metadata": {
        "colab": {
          "base_uri": "https://localhost:8080/"
        },
        "id": "VglQp7p5NuP7",
        "outputId": "70d6f991-e37e-4821-d344-4f5c4d6331de"
      },
      "execution_count": 11,
      "outputs": [
        {
          "output_type": "stream",
          "name": "stdout",
          "text": [
            "Synset('computer.n.01')\n"
          ]
        }
      ]
    },
    {
      "cell_type": "code",
      "source": [
        "#Hyponyms give abstract concepts of the word that are much more specific\n",
        "#the list of hyponyms words of the computer\n",
        "syn = wordnet.synset('computer.n.01')\n",
        "print(syn.hyponyms)\n",
        "print([lemma.name() for synset in syn.hyponyms() for lemma in synset.lemmas()])"
      ],
      "metadata": {
        "colab": {
          "base_uri": "https://localhost:8080/"
        },
        "id": "ru3SFsMcNw41",
        "outputId": "0ccb5fb2-3795-4343-ba75-482c959b4cac"
      },
      "execution_count": 12,
      "outputs": [
        {
          "output_type": "stream",
          "name": "stdout",
          "text": [
            "<bound method _WordNetObject.hyponyms of Synset('computer.n.01')>\n",
            "['analog_computer', 'analogue_computer', 'digital_computer', 'home_computer', 'node', 'client', 'guest', 'number_cruncher', 'pari-mutuel_machine', 'totalizer', 'totaliser', 'totalizator', 'totalisator', 'predictor', 'server', 'host', 'Turing_machine', 'web_site', 'website', 'internet_site', 'site']\n"
          ]
        }
      ]
    },
    {
      "cell_type": "code",
      "source": [
        "#the semantic similarity in WordNet\n",
        "vehicle = wordnet.synset('vehicle.n.01')\n",
        "car = wordnet.synset('car.n.01')\n",
        "print(car.lowest_common_hypernyms(vehicle))"
      ],
      "metadata": {
        "id": "yOni2X0nNyf8"
      },
      "execution_count": 13,
      "outputs": []
    },
    {
      "cell_type": "code",
      "source": [
        "#the semantic similarity in WordNet\n",
        "vehicle = wordnet.synset('vehicle.n.01')\n",
        "car = wordnet.synset('car.n.01')\n",
        "print(car.lowest_common_hypernyms(vehicle))"
      ],
      "metadata": {
        "colab": {
          "base_uri": "https://localhost:8080/"
        },
        "id": "eVd_s5BUN0V4",
        "outputId": "91e035dc-a93e-4b32-f53f-3ed79204973f"
      },
      "execution_count": 14,
      "outputs": [
        {
          "output_type": "stream",
          "name": "stdout",
          "text": [
            "[Synset('vehicle.n.01')]\n"
          ]
        }
      ]
    },
    {
      "cell_type": "markdown",
      "source": [
        "C. Write a program using python to find synonym and antonym of word \"active\"\n",
        "using Wordnet."
      ],
      "metadata": {
        "id": "TKzFJIm5N8l1"
      }
    },
    {
      "cell_type": "code",
      "source": [
        "from nltk.corpus import wordnet\n",
        "print( wordnet.synsets(\"active\"))\n",
        "print(wordnet.lemma('active.a.01.active').antonyms())"
      ],
      "metadata": {
        "colab": {
          "base_uri": "https://localhost:8080/"
        },
        "id": "i7PYw65CN9KA",
        "outputId": "baaf2321-4d30-40ea-a506-44462cfe277e"
      },
      "execution_count": 15,
      "outputs": [
        {
          "output_type": "stream",
          "name": "stdout",
          "text": [
            "[Synset('active_agent.n.01'), Synset('active_voice.n.01'), Synset('active.n.03'), Synset('active.a.01'), Synset('active.s.02'), Synset('active.a.03'), Synset('active.s.04'), Synset('active.a.05'), Synset('active.a.06'), Synset('active.a.07'), Synset('active.s.08'), Synset('active.a.09'), Synset('active.a.10'), Synset('active.a.11'), Synset('active.a.12'), Synset('active.a.13'), Synset('active.a.14')]\n",
            "[Lemma('inactive.a.02.inactive')]\n"
          ]
        }
      ]
    },
    {
      "cell_type": "markdown",
      "source": [
        "3d. Compare two nouns.\n",
        " "
      ],
      "metadata": {
        "id": "FvfhcRrAPLeM"
      }
    },
    {
      "cell_type": "code",
      "source": [
        "\n",
        " \n",
        "import nltk\n",
        "from nltk.corpus import wordnet\n",
        "syn1 = wordnet.synsets('football')\n",
        "syn2 = wordnet.synsets('soccer')\n",
        " \n",
        "# A word may have multiple synsets, so need to compare each synset of word1 with synset of word2\n",
        "for s1 in syn1:\n",
        "    for s2 in syn2:\n",
        "        print(\"Path similarity of: \")\n",
        "        print(s1, '(', s1.pos(), ')', '[', s1.definition(), ']')\n",
        "        print(s2, '(', s2.pos(), ')', '[', s2.definition(), ']')\n",
        "        print(\" is\", s1.path_similarity(s2))\n",
        "        print()\n"
      ],
      "metadata": {
        "colab": {
          "base_uri": "https://localhost:8080/"
        },
        "id": "5pD96TtCPIdu",
        "outputId": "fa4d8ec4-6357-4140-8743-2d6105a79d47"
      },
      "execution_count": 16,
      "outputs": [
        {
          "output_type": "stream",
          "name": "stdout",
          "text": [
            "Path similarity of: \n",
            "Synset('football.n.01') ( n ) [ any of various games played with a ball (round or oval) in which two teams try to kick or carry or propel the ball into each other's goal ]\n",
            "Synset('soccer.n.01') ( n ) [ a football game in which two teams of 11 players try to kick or head a ball into the opponents' goal ]\n",
            " is 0.5\n",
            "\n",
            "Path similarity of: \n",
            "Synset('football.n.02') ( n ) [ the inflated oblong ball used in playing American football ]\n",
            "Synset('soccer.n.01') ( n ) [ a football game in which two teams of 11 players try to kick or head a ball into the opponents' goal ]\n",
            " is 0.05\n",
            "\n"
          ]
        }
      ]
    },
    {
      "cell_type": "markdown",
      "source": [
        "3e. Handling stopword:\n",
        " \n",
        "i) Using nltk Adding or Removing Stop Words in NLTK's Default Stop Word List."
      ],
      "metadata": {
        "id": "F4oK1AGOPTgt"
      }
    },
    {
      "cell_type": "code",
      "source": [
        "\n",
        " \n",
        "import nltk\n",
        "from nltk.corpus import stopwords\n",
        "nltk.download('stopwords')\n",
        "from nltk.tokenize import word_tokenize\n",
        " \n",
        "nltk.download('punkt')\n",
        " \n",
        "text = \"Yashesh likes to play football, however he is not too fond of tennis.\"\n",
        "text_tokens = word_tokenize(text)\n",
        "tokens_without_sw = [word for word in text_tokens if not word in\n",
        "stopwords.words()]\n",
        "print(tokens_without_sw)\n",
        " \n",
        "#add the word play to the NLTK stop word collection\n",
        "all_stopwords = stopwords.words('english')\n",
        "all_stopwords.append('play')\n",
        "text_tokens = word_tokenize(text)\n",
        "tokens_without_sw = [word for word in text_tokens if not word in all_stopwords]\n",
        "print(tokens_without_sw)\n",
        " \n",
        "#remove ‘not’ from stop word collection\n",
        "all_stopwords.remove('not')\n",
        "text_tokens = word_tokenize(text)\n",
        "tokens_without_sw = [word for word in text_tokens if not word in all_stopwords]\n",
        "print(tokens_without_sw)\n"
      ],
      "metadata": {
        "colab": {
          "base_uri": "https://localhost:8080/"
        },
        "id": "DL5VkEqdPRoP",
        "outputId": "12cc57e6-8f98-4b19-e94d-063bbb73a2af"
      },
      "execution_count": 17,
      "outputs": [
        {
          "output_type": "stream",
          "name": "stdout",
          "text": [
            "[nltk_data] Downloading package stopwords to /root/nltk_data...\n",
            "[nltk_data]   Unzipping corpora/stopwords.zip.\n",
            "[nltk_data] Downloading package punkt to /root/nltk_data...\n",
            "[nltk_data]   Unzipping tokenizers/punkt.zip.\n",
            "['Yashesh', 'likes', 'play', 'football', ',', 'however', 'fond', 'tennis', '.']\n",
            "['Yashesh', 'likes', 'football', ',', 'however', 'fond', 'tennis', '.']\n",
            "['Yashesh', 'likes', 'football', ',', 'however', 'not', 'fond', 'tennis', '.']\n"
          ]
        }
      ]
    },
    {
      "cell_type": "markdown",
      "source": [
        "ii) Using Gensim Adding and Removing Stop Words in Default Gensim Stop\n",
        "Words List\n"
      ],
      "metadata": {
        "id": "yIYHMB6ZPb_x"
      }
    },
    {
      "cell_type": "code",
      "source": [
        "\n",
        " \n",
        "#pip install gensim\n",
        "import gensim\n",
        "from gensim.parsing.preprocessing import remove_stopwords\n",
        "text = \"Yashesh likes to play football, however he is not too fond of tennis.\"\n",
        "filtered_sentence = remove_stopwords(text)\n",
        "print(filtered_sentence)\n",
        " \n",
        "all_stopwords = gensim.parsing.preprocessing.STOPWORDS\n",
        "print(all_stopwords)\n",
        " \n",
        "'''The following script adds likes and play to the list of stop words in Gensim:'''\n",
        "from gensim.parsing.preprocessing import STOPWORDS\n",
        "all_stopwords_gensim = STOPWORDS.union(set(['likes', 'play']))\n",
        "text = \"Yashesh likes to play football, however he is not too fond of tennis.\"\n",
        "text_tokens = word_tokenize(text)\n",
        "tokens_without_sw = [word for word in text_tokens if not word in\n",
        "all_stopwords_gensim]\n",
        "print(tokens_without_sw)\n",
        " \n",
        "'''The following script removes the word \"not\" from the set of stop words in\n",
        "Gensim:'''\n",
        "from gensim.parsing.preprocessing import STOPWORDS\n",
        "all_stopwords_gensim = STOPWORDS\n",
        "sw_list = {\"not\"}\n",
        "all_stopwords_gensim = STOPWORDS.difference(sw_list)\n",
        "text = \"Yashesh likes to play football, however he is not too fond of tennis.\"\n",
        "text_tokens = word_tokenize(text)\n",
        "tokens_without_sw = [word for word in text_tokens if not word in\n",
        "all_stopwords_gensim]\n",
        "print(tokens_without_sw)\n"
      ],
      "metadata": {
        "colab": {
          "base_uri": "https://localhost:8080/"
        },
        "id": "gNC7UeZDPaId",
        "outputId": "9a90d063-f534-43e7-83f9-4a9d34f90515"
      },
      "execution_count": 18,
      "outputs": [
        {
          "output_type": "stream",
          "name": "stdout",
          "text": [
            "Yashesh likes play football, fond tennis.\n",
            "frozenset({'an', 'are', 'will', 'a', 'nor', 'somehow', 'five', 'every', 'con', 'few', 'might', 'anything', 'nevertheless', 'please', 'myself', 'hence', 'beside', 'via', 'why', 'fire', 'thus', 'detail', 'elsewhere', 'all', 'too', 'due', 'any', 'as', 'how', 'without', 'if', 'last', 'during', 'and', 'quite', 'where', 'those', 'from', 'these', 'was', 'once', 'something', 'toward', 'whenever', 'does', 'back', 'together', 'someone', 'seems', 'say', 'afterwards', 'ltd', 'between', 'of', 'beyond', 'un', 'twelve', 'has', 'beforehand', 'no', 'own', 'almost', 'regarding', 'were', 'same', 'none', 'noone', 'out', 'being', 'third', 'cry', 'fify', 'rather', 'do', 'twenty', 'never', 'three', 'well', 'other', 'whereafter', 'which', 'describe', 'what', 'though', 'ours', 'except', 'therein', 'perhaps', 'among', 'always', 'some', 'when', 'here', 'get', 'again', 'up', 'doing', 'many', 'although', 'empty', 'nowhere', 'would', 'really', 'most', 'one', 'alone', 'hereby', 'i', 'so', 'seemed', 'therefore', 'eight', 'amoungst', 'meanwhile', 'seeming', 'over', 'themselves', 'must', 'becoming', 'thin', 'around', 'side', 'we', 'co', 'onto', 'thereafter', 'used', 'whereupon', 'into', 'front', 'at', 'made', 'system', 'seem', 'each', 'both', 'six', 'their', 'above', 'nobody', 'but', 'him', 'while', 'take', 'herself', 'forty', 'within', 'across', 'nine', 'make', 'us', 'four', 'eg', 'been', 'give', 'moreover', 'itself', 'sixty', 'thence', 'nothing', 'hereafter', 'less', 'or', 'until', 'such', 'also', 'anyhow', 'etc', 'on', 'couldnt', 'cannot', 'top', 'even', 'amongst', 'show', 'anywhere', 'latterly', 'in', 'just', 'ten', 'neither', 'found', 'yours', 'who', 'per', 'only', 'find', 'wherein', 'upon', 'either', 'whether', 'else', 'yet', 'whence', 'thru', 'still', 'part', 'often', 'otherwise', 'it', 'behind', 'km', 'cant', 'yourselves', 'see', 'against', 'everything', 'former', 'since', 'several', 'because', 'now', 'thereupon', 'another', 'after', 'very', 'sincere', 'ie', 'became', 'his', 'sometimes', 'move', 're', 'whereby', 'be', 'amount', 'doesn', 'towards', 'next', 'mostly', 'everyone', 'the', 'whereas', 'further', 'its', 'by', 'your', 'whom', 'under', 'am', 'full', 'may', 'more', 'much', 'fill', 'de', 'thick', 'name', 'interest', 'go', 'below', 'you', 'formerly', 'to', 'keep', 'our', 'throughout', 'put', 'enough', 'with', 'ever', 'unless', 'already', 'somewhere', 'don', 'not', 'then', 'fifteen', 'ourselves', 'thereby', 'didn', 'whither', 'me', 'than', 'hereupon', 'hasnt', 'namely', 'for', 'off', 'mine', 'they', 'hundred', 'call', 'before', 'he', 'computer', 'had', 'whose', 'hers', 'inc', 'everywhere', 'becomes', 'herein', 'using', 'them', 'could', 'first', 'her', 'become', 'have', 'whatever', 'should', 'along', 'various', 'eleven', 'sometime', 'she', 'mill', 'my', 'did', 'whoever', 'this', 'that', 'serious', 'down', 'anyway', 'latter', 'bill', 'indeed', 'others', 'kg', 'through', 'is', 'whole', 'bottom', 'wherever', 'done', 'about', 'least', 'can', 'besides', 'however', 'himself', 'anyone', 'yourself', 'two', 'there'})\n",
            "['Yashesh', 'football', ',', 'fond', 'tennis', '.']\n",
            "['Yashesh', 'likes', 'play', 'football', ',', 'not', 'fond', 'tennis', '.']\n"
          ]
        }
      ]
    },
    {
      "cell_type": "markdown",
      "source": [
        "iii) Using Spacy Adding and Removing Stop Words in Default Spacy Stop Words List.\n"
      ],
      "metadata": {
        "id": "NsRL82_IPiQZ"
      }
    },
    {
      "cell_type": "code",
      "source": [
        "\n",
        " \n",
        "#pip install spacy\n",
        "#python -m spacy download en_core_web_sm\n",
        "#python -m spacy download en\n",
        "import spacy\n",
        "import nltk\n",
        "from nltk.tokenize import word_tokenize\n",
        "sp = spacy.load('en_core_web_sm')\n",
        " \n",
        "#add the word play to the NLTK stop word collection\n",
        "all_stopwords = sp.Defaults.stop_words\n",
        "all_stopwords.add(\"play\")\n",
        "text = \"Yashesh likes to play football, however he is not too fond of tennis.\"\n",
        "text_tokens = word_tokenize(text)\n",
        "tokens_without_sw = [word for word in text_tokens if not word in all_stopwords]\n",
        "print(tokens_without_sw)\n",
        " \n",
        "#remove 'not' from stop word collection\n",
        "all_stopwords.remove('not')\n",
        "tokens_without_sw = [word for word in text_tokens if not word in all_stopwords]\n",
        "print(tokens_without_sw)"
      ],
      "metadata": {
        "colab": {
          "base_uri": "https://localhost:8080/"
        },
        "id": "mHyMCbLdPhtM",
        "outputId": "86c61720-8c5f-48f7-c964-028384826365"
      },
      "execution_count": 19,
      "outputs": [
        {
          "output_type": "stream",
          "name": "stdout",
          "text": [
            "['Yashesh', 'likes', 'football', ',', 'fond', 'tennis', '.']\n",
            "['Yashesh', 'likes', 'football', ',', 'not', 'fond', 'tennis', '.']\n"
          ]
        }
      ]
    }
  ]
}