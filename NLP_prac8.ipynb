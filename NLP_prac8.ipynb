{
  "nbformat": 4,
  "nbformat_minor": 0,
  "metadata": {
    "colab": {
      "name": "NLP prac8.ipynb",
      "provenance": [],
      "authorship_tag": "ABX9TyPeLPsGJcb4oTJJili2rexJ",
      "include_colab_link": true
    },
    "kernelspec": {
      "name": "python3",
      "display_name": "Python 3"
    },
    "language_info": {
      "name": "python"
    }
  },
  "cells": [
    {
      "cell_type": "markdown",
      "metadata": {
        "id": "view-in-github",
        "colab_type": "text"
      },
      "source": [
        "<a href=\"https://colab.research.google.com/github/akansha-001/NLP/blob/main/NLP_prac8.ipynb\" target=\"_parent\"><img src=\"https://colab.research.google.com/assets/colab-badge.svg\" alt=\"Open In Colab\"/></a>"
      ]
    },
    {
      "cell_type": "markdown",
      "source": [
        "Study PorterStemmer, LancasterStemmer, RegexpStemmer, SnowballStemmer\n",
        "Study WordNetLemmatizer.\n",
        " \n",
        "Code:"
      ],
      "metadata": {
        "id": "FuWX2gYsU7QQ"
      }
    },
    {
      "cell_type": "code",
      "source": [
        "\n",
        " \n",
        "# PorterStemmer\n",
        " \n",
        "import nltk\n",
        "from nltk.stem import PorterStemmer\n",
        "word_stemmer = PorterStemmer()\n",
        "print(word_stemmer.stem('writing'))"
      ],
      "metadata": {
        "colab": {
          "base_uri": "https://localhost:8080/"
        },
        "id": "jY-hQ1PcU7cE",
        "outputId": "1637a5c0-a9e3-4c54-c954-a92ff4831824"
      },
      "execution_count": 1,
      "outputs": [
        {
          "output_type": "stream",
          "name": "stdout",
          "text": [
            "write\n"
          ]
        }
      ]
    },
    {
      "cell_type": "code",
      "source": [
        "#LancasterStemmer \n",
        " \n",
        "import nltk\n",
        "from nltk.stem import LancasterStemmer\n",
        "Lanc_stemmer = LancasterStemmer()\n",
        "print(Lanc_stemmer.stem('writing'))\n"
      ],
      "metadata": {
        "colab": {
          "base_uri": "https://localhost:8080/"
        },
        "id": "ImHpb0mvVBJ1",
        "outputId": "906ba729-bafc-45ab-e92a-4cc57be2207c"
      },
      "execution_count": 2,
      "outputs": [
        {
          "output_type": "stream",
          "name": "stdout",
          "text": [
            "writ\n"
          ]
        }
      ]
    },
    {
      "cell_type": "code",
      "source": [
        "#RegexpStemmer \n",
        " \n",
        "import nltk\n",
        "from nltk.stem import RegexpStemmer\n",
        "Reg_stemmer = RegexpStemmer('ing$|s$|e$|able$', min=4)\n",
        "print(Reg_stemmer.stem('writing'))\n"
      ],
      "metadata": {
        "colab": {
          "base_uri": "https://localhost:8080/"
        },
        "id": "TMRVLqIWVD-n",
        "outputId": "71ac442e-020e-4dcf-8c95-09918d1ce826"
      },
      "execution_count": 3,
      "outputs": [
        {
          "output_type": "stream",
          "name": "stdout",
          "text": [
            "writ\n"
          ]
        }
      ]
    },
    {
      "cell_type": "code",
      "source": [
        "#SnowballStemmer \n",
        " \n",
        "import nltk\n",
        "from nltk.stem import SnowballStemmer\n",
        "english_stemmer = SnowballStemmer('english')\n",
        "print(english_stemmer.stem ('writing'))"
      ],
      "metadata": {
        "colab": {
          "base_uri": "https://localhost:8080/"
        },
        "id": "q3zq-pnSVGVI",
        "outputId": "ff03f363-6fa7-4c1c-ab42-3f29b1430059"
      },
      "execution_count": 4,
      "outputs": [
        {
          "output_type": "stream",
          "name": "stdout",
          "text": [
            "write\n"
          ]
        }
      ]
    },
    {
      "cell_type": "code",
      "source": [
        "#WordNetLemmatizer\n",
        " \n",
        "from nltk.stem import WordNetLemmatizer \n",
        "lemmatizer = WordNetLemmatizer()\n",
        "import nltk\n",
        "nltk.download('wordnet')\n",
        "print(\"word :\\tlemma\") \n",
        "print(\"rocks :\", lemmatizer.lemmatize(\"rocks\"))\n",
        "print(\"corpora :\", lemmatizer.lemmatize(\"corpora\"))\n",
        " \n",
        "# a denotes adjective in \"pos\"\n",
        "print(\"better :\", lemmatizer.lemmatize(\"better\", pos =\"a\"))"
      ],
      "metadata": {
        "colab": {
          "base_uri": "https://localhost:8080/"
        },
        "id": "1HVnQYNzVKkE",
        "outputId": "daf810aa-1fa7-40c6-e173-38344273e770"
      },
      "execution_count": 5,
      "outputs": [
        {
          "output_type": "stream",
          "name": "stdout",
          "text": [
            "[nltk_data] Downloading package wordnet to /root/nltk_data...\n",
            "[nltk_data]   Unzipping corpora/wordnet.zip.\n",
            "word :\tlemma\n",
            "rocks : rock\n",
            "corpora : corpus\n",
            "better : good\n"
          ]
        }
      ]
    }
  ]
}